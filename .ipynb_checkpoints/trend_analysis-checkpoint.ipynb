{
 "cells": [
  {
   "cell_type": "code",
   "execution_count": 1,
   "metadata": {},
   "outputs": [],
   "source": [
    "import pandas as pd\n",
    "import numpy as np"
   ]
  },
  {
   "cell_type": "code",
   "execution_count": 2,
   "metadata": {},
   "outputs": [],
   "source": [
    "data=pd.read_excel('trenddata_1.xlsx')"
   ]
  },
  {
   "cell_type": "code",
   "execution_count": 3,
   "metadata": {},
   "outputs": [
    {
     "data": {
      "text/html": [
       "<div>\n",
       "<style scoped>\n",
       "    .dataframe tbody tr th:only-of-type {\n",
       "        vertical-align: middle;\n",
       "    }\n",
       "\n",
       "    .dataframe tbody tr th {\n",
       "        vertical-align: top;\n",
       "    }\n",
       "\n",
       "    .dataframe thead th {\n",
       "        text-align: right;\n",
       "    }\n",
       "</style>\n",
       "<table border=\"1\" class=\"dataframe\">\n",
       "  <thead>\n",
       "    <tr style=\"text-align: right;\">\n",
       "      <th></th>\n",
       "      <th>Productcat</th>\n",
       "      <th>Date</th>\n",
       "      <th>Sales</th>\n",
       "    </tr>\n",
       "  </thead>\n",
       "  <tbody>\n",
       "    <tr>\n",
       "      <th>0</th>\n",
       "      <td>ProdCat1</td>\n",
       "      <td>2013-06-13</td>\n",
       "      <td>802</td>\n",
       "    </tr>\n",
       "    <tr>\n",
       "      <th>1</th>\n",
       "      <td>ProdCat1</td>\n",
       "      <td>2013-06-14</td>\n",
       "      <td>671</td>\n",
       "    </tr>\n",
       "    <tr>\n",
       "      <th>2</th>\n",
       "      <td>ProdCat1</td>\n",
       "      <td>2013-06-15</td>\n",
       "      <td>866</td>\n",
       "    </tr>\n",
       "    <tr>\n",
       "      <th>3</th>\n",
       "      <td>ProdCat1</td>\n",
       "      <td>2013-06-18</td>\n",
       "      <td>602</td>\n",
       "    </tr>\n",
       "    <tr>\n",
       "      <th>4</th>\n",
       "      <td>ProdCat1</td>\n",
       "      <td>2013-06-19</td>\n",
       "      <td>343</td>\n",
       "    </tr>\n",
       "  </tbody>\n",
       "</table>\n",
       "</div>"
      ],
      "text/plain": [
       "  Productcat       Date  Sales\n",
       "0   ProdCat1 2013-06-13    802\n",
       "1   ProdCat1 2013-06-14    671\n",
       "2   ProdCat1 2013-06-15    866\n",
       "3   ProdCat1 2013-06-18    602\n",
       "4   ProdCat1 2013-06-19    343"
      ]
     },
     "execution_count": 3,
     "metadata": {},
     "output_type": "execute_result"
    }
   ],
   "source": [
    "data.head()"
   ]
  },
  {
   "cell_type": "code",
   "execution_count": 4,
   "metadata": {},
   "outputs": [],
   "source": [
    "def datewiseana(name):\n",
    "    print(data.groupby(['Productcat']).get_group(name)['Sales'].max())\n",
    "    print(data.groupby(['Productcat']).get_group(name)['Sales'].min())\n",
    "    print(data.groupby(['Productcat']).get_group(name)['Date'].max())\n",
    "    print(data.groupby(['Productcat']).get_group(name)['Date'].min())"
   ]
  },
  {
   "cell_type": "code",
   "execution_count": 5,
   "metadata": {},
   "outputs": [
    {
     "name": "stdout",
     "output_type": "stream",
     "text": [
      "442\n",
      "14\n",
      "2014-01-31 00:00:00\n",
      "2013-06-13 00:00:00\n"
     ]
    }
   ],
   "source": [
    "name = 'ProdCat3'\n",
    "datewiseana(name)"
   ]
  },
  {
   "cell_type": "code",
   "execution_count": 6,
   "metadata": {},
   "outputs": [],
   "source": [
    "def weekavg(name):\n",
    "    week=data.groupby(['Productcat']).get_group(name)\n",
    "    cnt=1\n",
    "    sum1=0\n",
    "    weekav={}\n",
    "    for index,row in week.iterrows():\n",
    "       # print(index)\n",
    "        if(index%5==4):\n",
    "            sum1=sum1+week.at[index,'Sales']\n",
    "            avg=sum1/5\n",
    "            #create list and insert\n",
    "            #print(\"week \"+str(cnt))\n",
    "            #print(avg)\n",
    "            s=\"week \" + str(cnt)\n",
    "            weekav[s]=avg\n",
    "            cnt=cnt+1\n",
    "        elif(index%5==0):\n",
    "            sum1=week.at[index,'Sales']\n",
    "        elif(index%5!=0):\n",
    "            sum1=sum1+week.at[index,'Sales']\n",
    "        \n",
    "#     for y,x in weekav.items():\n",
    "#         print (y+':'+str(x))\n",
    "        \n",
    "    maximum = max(weekav, key=weekav.get)  # Just use 'min' instead of 'max' for minimum.\n",
    "    print(\"max:\"+\" \"+str(maximum)+\" \"+str(weekav[maximum]))\n",
    "    \n",
    "    minimum = min(weekav, key=weekav.get)  # Just use 'min' instead of 'max' for minimum.\n",
    "    print(\"min:\"+\" \"+str(minimum)+\" \"+str( weekav[minimum]))\n"
   ]
  },
  {
   "cell_type": "code",
   "execution_count": 7,
   "metadata": {},
   "outputs": [
    {
     "name": "stdout",
     "output_type": "stream",
     "text": [
      "max: week 28 1086.2\n",
      "min: week 13 553.6\n"
     ]
    }
   ],
   "source": [
    "name='ProdCat1'\n",
    "weekavg(name)"
   ]
  },
  {
   "cell_type": "code",
   "execution_count": 8,
   "metadata": {},
   "outputs": [],
   "source": [
    "def monthwise(name):\n",
    "    week=data.groupby(['Productcat']).get_group(name)\n",
    "    data['month']=pd.DatetimeIndex(data['Date']).month\n",
    "    week['month']=pd.DatetimeIndex(week['Date']).month\n",
    "    #print(data.head())\n",
    "    #print(data.groupby(['Productcat']).get_group(name))\n",
    "    monthav={}\n",
    "    cnt=1\n",
    "    moncnt=1\n",
    "    sum2=0\n",
    "    for index,row in week.iterrows():\n",
    "        mon=week.at[index,'month']\n",
    "        mon1=index+1\n",
    "        if(mon1 < len(week)):\n",
    "            if((not mon==week.at[index+1,'month'])):\n",
    "                sum2=sum2+week.at[index,'Sales']\n",
    "                #print(\"Count \"+str(cnt))\n",
    "                sum2=sum2/cnt\n",
    "                #print(\"Monthly avg \")\n",
    "                #print(sum2)\n",
    "                s=\"Month \"+ str(moncnt)\n",
    "                monthav[s]=sum2\n",
    "                moncnt=moncnt+1\n",
    "                sum2=0\n",
    "            else:\n",
    "                cnt=cnt+1\n",
    "                sum2=sum2+week.at[index,'Sales']\n",
    "    \n",
    "  #  for x,y in monthav.items():\n",
    "    #    print(x+\": \"+str(y))\n",
    "        \n",
    "    maximum = max(monthav, key=monthav.get)  # Just use 'min' instead of 'max' for minimum.\n",
    "    print(maximum, monthav[maximum])\n",
    "\n",
    "    minimum = min(monthav, key=monthav.get)  # Just use 'min' instead of 'max' for minimum.\n",
    "    print(minimum, monthav[minimum])\n",
    "        "
   ]
  },
  {
   "cell_type": "code",
   "execution_count": 9,
   "metadata": {},
   "outputs": [
    {
     "name": "stdout",
     "output_type": "stream",
     "text": [
      "Month 1 830.5384615384615\n",
      "Month 6 121.57264957264957\n"
     ]
    },
    {
     "name": "stderr",
     "output_type": "stream",
     "text": [
      "/home/sirzechlucifer/anaconda3/lib/python3.7/site-packages/ipykernel_launcher.py:4: SettingWithCopyWarning: \n",
      "A value is trying to be set on a copy of a slice from a DataFrame.\n",
      "Try using .loc[row_indexer,col_indexer] = value instead\n",
      "\n",
      "See the caveats in the documentation: http://pandas.pydata.org/pandas-docs/stable/indexing.html#indexing-view-versus-copy\n",
      "  after removing the cwd from sys.path.\n"
     ]
    }
   ],
   "source": [
    "monthwise('ProdCat1')"
   ]
  },
  {
   "cell_type": "code",
   "execution_count": 14,
   "metadata": {},
   "outputs": [],
   "source": [
    "def commentsec(name,nweek):\n",
    "    week=data.groupby(['Productcat']).get_group(name)\n",
    "    cnt=1\n",
    "    sum1=0\n",
    "    weekav={}\n",
    "    weekno={}\n",
    "    weekNo=list()\n",
    "    for index,row in week.iterrows():\n",
    "       # print(index)\n",
    "        if(index%5==4):\n",
    "            sum1=sum1+week.at[index,'Sales']\n",
    "            avg=sum1/5\n",
    "            #create list and insert\n",
    "            #print(\"week \"+str(cnt))\n",
    "            #print(avg)\n",
    "            s=\"week \" + str(cnt)\n",
    "            weekav[s]=avg\n",
    "            weekno[cnt]=avg\n",
    "            weekNo.append(cnt)\n",
    "            cnt=cnt+1\n",
    "        elif(index%5==0):\n",
    "            sum1=week.at[index,'Sales']\n",
    "        elif(index%5!=0):\n",
    "            sum1=sum1+week.at[index,'Sales']\n",
    "        \n",
    "    \n",
    "    #for u,l in weekno.items():\n",
    "        #print(str(u)+\": \"+str(l))\n",
    "    newweek=nweek\n",
    "    comm={}\n",
    "    counter=1\n",
    "    for x in weekNo:\n",
    "        counter=0\n",
    "        temp=weekno[x]\n",
    "        #print(\"X: \"+str(temp))\n",
    "        indx=weekNo.index(x)\n",
    "        #print(indx)\n",
    "        #print(str(x))\n",
    "        for y in range(indx+1,len(weekNo)) :\n",
    "          #  print(\"Indexes \"+str(y))\n",
    "            if(counter==(newweek-1)):\n",
    "                \n",
    "                val=weekno[y]\n",
    "               # print(\"counter \"+str(counter)+\" \"+str(val))\n",
    "               # print(str(val))\n",
    "                temp1=((val-temp)/val)*100\n",
    "                dura=str(x)+\" to \"+str(y)\n",
    "                comm[dura]=temp1\n",
    "                break\n",
    "            else:\n",
    "                counter=counter+1\n",
    "    inverse = [(value, key) for key, value in comm.items()]\n",
    "    print(\"max\"+\" \"+str(max(inverse)[1])+\" \"+str(max(inverse)[0]))\n",
    "    print(\"min\"+\" \"+str(min(inverse)[1])+\" \"+str(min(inverse)[0]))\n",
    "#     for c,d in comm.items():\n",
    "#         print(c+\": \"+str(d))\n",
    "    return comm\n",
    "    \n",
    "#     maxdate=data.groupby(['Productcat']).get_group(name)['Date'].max()\n",
    "#     print(maxdate)\n",
    "#     mindate=data.groupby(['Productcat']).get_group(name)['Date'].min()\n",
    "#     print(mindate)\n",
    "    \n",
    "    "
   ]
  },
  {
   "cell_type": "code",
   "execution_count": 15,
   "metadata": {},
   "outputs": [
    {
     "name": "stdout",
     "output_type": "stream",
     "text": [
      "max 13 to 16 35.09964830011723\n",
      "min 3 to 6 -74.26764314247671\n"
     ]
    }
   ],
   "source": [
    "comm=commentsec('ProdCat1',nweek=4)"
   ]
  },
  {
   "cell_type": "code",
   "execution_count": 16,
   "metadata": {},
   "outputs": [],
   "source": [
    "import plotly\n",
    "import plotly.plotly as py\n",
    "import plotly.graph_objs as go"
   ]
  },
  {
   "cell_type": "code",
   "execution_count": 17,
   "metadata": {},
   "outputs": [],
   "source": [
    "plotly.tools.set_credentials_file(username='rahulmoorthy19', api_key='XDDe3HxftcIR426KwCEd')"
   ]
  },
  {
   "cell_type": "code",
   "execution_count": 18,
   "metadata": {},
   "outputs": [],
   "source": [
    "key=list(comm.keys())"
   ]
  },
  {
   "cell_type": "code",
   "execution_count": 19,
   "metadata": {},
   "outputs": [],
   "source": [
    "value=list(comm.values())"
   ]
  },
  {
   "cell_type": "code",
   "execution_count": 20,
   "metadata": {},
   "outputs": [
    {
     "name": "stderr",
     "output_type": "stream",
     "text": [
      "/home/sirzechlucifer/anaconda3/lib/python3.7/site-packages/IPython/core/display.py:689: UserWarning:\n",
      "\n",
      "Consider using IPython.display.IFrame instead\n",
      "\n"
     ]
    },
    {
     "data": {
      "text/html": [
       "<iframe id=\"igraph\" scrolling=\"no\" style=\"border:none;\" seamless=\"seamless\" src=\"https://plot.ly/~rahulmoorthy19/25.embed\" height=\"525px\" width=\"100%\"></iframe>"
      ],
      "text/plain": [
       "<chart_studio.tools.PlotlyDisplay object>"
      ]
     },
     "execution_count": 20,
     "metadata": {},
     "output_type": "execute_result"
    }
   ],
   "source": [
    "data = [go.Bar(x=key,y=value,name=\"trend\")]\n",
    "layout = go.Layout(\n",
    "    title=go.layout.Title(\n",
    "        text='Trend Analysis',\n",
    "        xref='paper',\n",
    "        x=0\n",
    "    ),\n",
    "    xaxis=go.layout.XAxis(\n",
    "        title=go.layout.xaxis.Title(\n",
    "            text='x Axis',\n",
    "            font=dict(\n",
    "                family='Courier New, monospace',\n",
    "                size=18,\n",
    "                color='#7f7f7f'\n",
    "            )\n",
    "        )\n",
    "    ),\n",
    "    yaxis=go.layout.YAxis(\n",
    "        title=go.layout.yaxis.Title(\n",
    "            text='y Axis',\n",
    "            font=dict(\n",
    "                family='Courier New, monospace',\n",
    "                size=18,\n",
    "                color='#7f7f7f'\n",
    "            )\n",
    "        )\n",
    "    )\n",
    ")\n",
    "fig = go.Figure(data=data, layout=layout)\n",
    "py.iplot(fig, filename='styling-names')"
   ]
  },
  {
   "cell_type": "code",
   "execution_count": null,
   "metadata": {},
   "outputs": [],
   "source": []
  },
  {
   "cell_type": "code",
   "execution_count": null,
   "metadata": {},
   "outputs": [],
   "source": []
  }
 ],
 "metadata": {
  "kernelspec": {
   "display_name": "Python 3",
   "language": "python",
   "name": "python3"
  },
  "language_info": {
   "codemirror_mode": {
    "name": "ipython",
    "version": 3
   },
   "file_extension": ".py",
   "mimetype": "text/x-python",
   "name": "python",
   "nbconvert_exporter": "python",
   "pygments_lexer": "ipython3",
   "version": "3.7.3"
  }
 },
 "nbformat": 4,
 "nbformat_minor": 2
}
